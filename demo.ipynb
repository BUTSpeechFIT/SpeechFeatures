{
 "cells": [
  {
   "cell_type": "code",
   "execution_count": null,
   "metadata": {},
   "outputs": [],
   "source": [
    "using Pkg\n",
    "Pkg.activate(\"../\")\n",
    "\n",
    "using Base.Filesystem\n",
    "\n",
    "# This is to read wav files.\n",
    "# See: https://github.com/dancasimiro/WAV.jl\n",
    "using WAV\n",
    "using Plots\n",
    "\n",
    "using Revise\n",
    "using SpeechFeatures"
   ]
  },
  {
   "cell_type": "markdown",
   "metadata": {},
   "source": [
    "Download an example audio file from the TIMIT \n",
    "corpus."
   ]
  },
  {
   "cell_type": "code",
   "execution_count": null,
   "metadata": {},
   "outputs": [],
   "source": [
    "if ! isfile(\"LDC93S1.wav\")\n",
    "    run(`wget https://catalog.ldc.upenn.edu/desc/addenda/LDC93S1.wav`)\n",
    "end"
   ]
  },
  {
   "cell_type": "markdown",
   "metadata": {},
   "source": [
    "Load the audio file"
   ]
  },
  {
   "cell_type": "code",
   "execution_count": null,
   "metadata": {},
   "outputs": [],
   "source": [
    "channels, srate = wavread(\"LDC93S1.wav\", format=\"double\")\n",
    "\n",
    "# TIMIT data has only one channel (i.e. \"mono\") \n",
    "x = channels[:, 1]\n",
    "\n",
    "println(\"sampling freq: $srate Hz\\nduration: $(round(length(x) / srate, digits=2)) s\")\n",
    "\n",
    "t = range(0, length(x) / srate, length=length(x))\n",
    "plot(t, x, size=(1000, 300), xlabel=\"time (seconds)\", legend = false)"
   ]
  },
  {
   "cell_type": "code",
   "execution_count": null,
   "metadata": {},
   "outputs": [],
   "source": [
    "mfcc = MFCC(srate = 16000) # Standard MFCC features \n",
    "Δ_ΔΔ = DeltaCoeffs(order = 2) # Add first and second order \"derivatives\" to the features\n",
    "mnorm = MeanNorm() # Remove the utterance mean\n",
    "fea = x |> mfcc |> Δ_ΔΔ |> mnorm\n",
    "\n",
    "heatmap(\n",
    "    Vector(range(0, length(x) / srate, length = length(fea))),\n",
    "    1:length(fea[1]),\n",
    "    hcat(fea...),\n",
    "    size = (900, 200),\n",
    "    xlabel = \"time (s)\",\n",
    "    c = :viridis\n",
    ")"
   ]
  }
 ],
 "metadata": {
  "kernelspec": {
   "display_name": "Julia 1.5.3",
   "language": "julia",
   "name": "julia-1.5"
  },
  "language_info": {
   "file_extension": ".jl",
   "mimetype": "application/julia",
   "name": "julia",
   "version": "1.5.3"
  }
 },
 "nbformat": 4,
 "nbformat_minor": 4
}
