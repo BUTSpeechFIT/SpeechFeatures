{
 "cells": [
  {
   "cell_type": "code",
   "execution_count": 57,
   "metadata": {},
   "outputs": [
    {
     "name": "stderr",
     "output_type": "stream",
     "text": [
      "\u001b[32m\u001b[1m Activating\u001b[22m\u001b[39m environment at `~/GithubRepositories/SpeechFeatures/Project.toml`\n"
     ]
    }
   ],
   "source": [
    "using Pkg\n",
    "Pkg.activate(\"../\")\n",
    "\n",
    "using Base.Filesystem\n",
    "\n",
    "# This is to read wav files.\n",
    "# See: https://github.com/dancasimiro/WAV.jl\n",
    "using WAV\n",
    "\n",
    "using Revise\n",
    "using SpeechFeatures\n",
    "using FFTW \n",
    "using PaddedViews"
   ]
  },
  {
   "cell_type": "markdown",
   "metadata": {},
   "source": [
    "Download an example audio file from the TIMIT corpus."
   ]
  },
  {
   "cell_type": "code",
   "execution_count": 58,
   "metadata": {},
   "outputs": [],
   "source": [
    "if ! isfile(\"LDC93S1.wav\")\n",
    "    run(`wget https://catalog.ldc.upenn.edu/desc/addenda/LDC93S1.wav`)\n",
    "end"
   ]
  },
  {
   "cell_type": "markdown",
   "metadata": {},
   "source": [
    "Load the audio file"
   ]
  },
  {
   "cell_type": "code",
   "execution_count": 59,
   "metadata": {},
   "outputs": [
    {
     "name": "stdout",
     "output_type": "stream",
     "text": [
      "sampling freq: 16000.0 Hz\n",
      "duration: 2.92 s\n"
     ]
    }
   ],
   "source": [
    "x, srate = wavread(\"LDC93S1.wav\")\n",
    "\n",
    "println(\"sampling freq: $srate Hz\\nduration: $(round(length(x) / srate, digits=2)) s\")"
   ]
  },
  {
   "cell_type": "code",
   "execution_count": 86,
   "metadata": {},
   "outputs": [
    {
     "data": {
      "text/plain": [
       "46797-element Array{Float64,1}:\n",
       "  3.866447400074623e-5\n",
       " -2.2372544951248154e-5\n",
       "  6.918298347674342e-5\n",
       "  8.145964524749038e-6\n",
       "  8.145964524749038e-6\n",
       "  9.970149295274061e-5\n",
       "  8.145964524749038e-6\n",
       "  3.866447400074623e-5\n",
       " -8.340956390324254e-5\n",
       " -5.289105442724535e-5\n",
       "  6.918298347674342e-5\n",
       "  3.866447400074623e-5\n",
       "  8.145964524749038e-6\n",
       "  ⋮\n",
       " -0.00029703913023522286\n",
       " -8.340956390324254e-5\n",
       "  8.145964524749038e-6\n",
       "  9.970149295274061e-5\n",
       "  0.0001302200024287378\n",
       "  9.970149295274061e-5\n",
       "  0.000160738511904735\n",
       "  0.000160738511904735\n",
       "  0.0001302200024287378\n",
       " -2.2372544951248154e-5\n",
       " -0.00014444658285523693\n",
       " -0.0002360021112832285"
      ]
     },
     "execution_count": 86,
     "metadata": {},
     "output_type": "execute_result"
    }
   ],
   "source": [
    "removedc!(x[:, 1])"
   ]
  },
  {
   "cell_type": "code",
   "execution_count": 60,
   "metadata": {},
   "outputs": [
    {
     "data": {
      "text/plain": [
       "289"
      ]
     },
     "execution_count": 60,
     "metadata": {},
     "output_type": "execute_result"
    }
   ],
   "source": [
    "framelength = Int64(0.025 * srate)\n",
    "hopsize = Int64(0.01 * srate)\n",
    "(length(x) - framelength) ÷ hopsize"
   ]
  },
  {
   "cell_type": "code",
   "execution_count": 64,
   "metadata": {},
   "outputs": [
    {
     "data": {
      "text/plain": [
       "(400, 289)"
      ]
     },
     "execution_count": 64,
     "metadata": {},
     "output_type": "execute_result"
    }
   ],
   "source": [
    "X = hcat(frames(x[:, 1], srate, 0.025, 0.01)...)\n",
    "size(X)"
   ]
  },
  {
   "cell_type": "code",
   "execution_count": 82,
   "metadata": {},
   "outputs": [
    {
     "data": {
      "text/plain": [
       "400-element Array{Float64,1}:\n",
       "  9.155552842799158e-7\n",
       " -9.155552842799158e-7\n",
       "  1.8311105685598315e-6\n",
       "  0.0\n",
       "  0.0\n",
       "  2.7466658528397473e-6\n",
       "  0.0\n",
       "  9.155552842799158e-7\n",
       " -2.7466658528397473e-6\n",
       " -1.8311105685598315e-6\n",
       "  1.8311105685598315e-6\n",
       "  9.155552842799158e-7\n",
       "  0.0\n",
       "  ⋮\n",
       "  3.662221137119663e-6\n",
       "  4.577776421399579e-6\n",
       "  4.577776421399579e-6\n",
       "  1.8311105685598315e-6\n",
       "  2.7466658528397473e-6\n",
       "  9.155552842799158e-7\n",
       " -9.155552842799158e-7\n",
       "  4.577776421399579e-6\n",
       "  9.155552842799158e-7\n",
       "  2.7466658528397473e-6\n",
       "  2.7466658528397473e-6\n",
       "  6.19525742362743e-5"
      ]
     },
     "execution_count": 82,
     "metadata": {},
     "output_type": "execute_result"
    }
   ],
   "source": [
    "win = X[:, 1]\n",
    "pwin = PaddedView(win[1], win[1:end-1], (length(win),))\n",
    "win .-= pwin * 0.97"
   ]
  },
  {
   "cell_type": "code",
   "execution_count": 63,
   "metadata": {},
   "outputs": [
    {
     "data": {
      "text/plain": [
       "512"
      ]
     },
     "execution_count": 63,
     "metadata": {},
     "output_type": "execute_result"
    }
   ],
   "source": [
    "t = framelength\n",
    "fftlen = Int(2^ceil(log2(t)))\n",
    "#fft_len = 2^(np.floor(np.log2(win_len))+1).astype('int'))\n"
   ]
  },
  {
   "cell_type": "code",
   "execution_count": 75,
   "metadata": {},
   "outputs": [
    {
     "data": {
      "text/plain": [
       "257×289 Array{Complex{Float64},2}:\n",
       "     0.033021+0.0im          …     0.0269478+0.0im\n",
       "   -0.0088443-0.00691887im       -0.00498785-0.00322214im\n",
       "  -0.00169133-0.00279423im         0.0021543-0.00440295im\n",
       "  0.000307404-0.00311393im        0.00213332-0.00366493im\n",
       "   0.00537265-0.000611215im       0.00275524+0.00139746im\n",
       " -0.000731351-0.00055838im   …    0.00147475+0.000518783im\n",
       "  -0.00306564-0.00499422im        0.00258501-0.00240728im\n",
       "  -0.00221077-0.00173646im       -0.00124662-0.0020841im\n",
       "   0.00198781+0.000518612im       0.00200907+0.0015843im\n",
       "   -0.0022523-0.00219729im        0.00793936+0.00171576im\n",
       "  -0.00395016+0.00133512im   …   -0.00260797-0.00185505im\n",
       "  0.000393942+6.2406e-5im         0.00383479-0.00193845im\n",
       " -0.000672897-0.000490285im      -8.80016e-5-0.00530172im\n",
       "             ⋮               ⋱  \n",
       "   0.00150851-0.00143921im   …   -0.00037008+0.000392139im\n",
       " -0.000178301-0.000123209im      0.000840224-0.00101008im\n",
       " -0.000962529+0.000701426im      0.000492232+0.000510077im\n",
       "  -0.00153892-0.000135953im       5.34423e-5-0.000452022im\n",
       "   0.00177793+0.000128897im      0.000396305+0.000512249im\n",
       " -0.000264134+0.000455604im  …    9.19439e-5-0.000871119im\n",
       " -0.000246758+0.000752068im       9.20006e-5-0.000532156im\n",
       "  0.000209678-0.000876638im       0.00101623+0.00055406im\n",
       "  0.000304485+0.000465379im     -0.000281768-0.00078136im\n",
       "  0.000488555-0.000394987im     -0.000373872-0.000399843im\n",
       " -0.000500182+0.000265572im  …   0.000206658-0.000597292im\n",
       "  0.000366222+0.0im             -0.000946074+0.0im"
      ]
     },
     "execution_count": 75,
     "metadata": {},
     "output_type": "execute_result"
    }
   ],
   "source": [
    "pX = PaddedView(0, X, (fftlen, 289))\n",
    "stft = rfft(pX, 1)"
   ]
  },
  {
   "cell_type": "code",
   "execution_count": 10,
   "metadata": {},
   "outputs": [
    {
     "data": {
      "text/plain": [
       "46797-element Array{Float64,1}:\n",
       "  3.051850947599719e-5\n",
       " -3.051850947599719e-5\n",
       "  6.103701895199438e-5\n",
       "  0.0\n",
       "  0.0\n",
       "  9.155552842799158e-5\n",
       "  0.0\n",
       "  3.051850947599719e-5\n",
       " -9.155552842799158e-5\n",
       " -6.103701895199438e-5\n",
       "  6.103701895199438e-5\n",
       "  3.051850947599719e-5\n",
       "  0.0\n",
       "  ⋮\n",
       " -0.0003051850947599719\n",
       " -9.155552842799158e-5\n",
       "  0.0\n",
       "  9.155552842799158e-5\n",
       "  0.00012207403790398877\n",
       "  9.155552842799158e-5\n",
       "  0.00015259254737998596\n",
       "  0.00015259254737998596\n",
       "  0.00012207403790398877\n",
       " -3.051850947599719e-5\n",
       " -0.00015259254737998596\n",
       " -0.00024414807580797754"
      ]
     },
     "execution_count": 10,
     "metadata": {},
     "output_type": "execute_result"
    }
   ],
   "source": [
    "x[:, 1]"
   ]
  }
 ],
 "metadata": {
  "kernelspec": {
   "display_name": "Julia 1.4.1",
   "language": "julia",
   "name": "julia-1.4"
  },
  "language_info": {
   "file_extension": ".jl",
   "mimetype": "application/julia",
   "name": "julia",
   "version": "1.4.1"
  }
 },
 "nbformat": 4,
 "nbformat_minor": 4
}
